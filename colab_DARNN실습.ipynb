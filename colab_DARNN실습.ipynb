{
  "nbformat": 4,
  "nbformat_minor": 0,
  "metadata": {
    "colab": {
      "name": "DARNN실습.ipynb",
      "provenance": [],
      "collapsed_sections": [],
      "mount_file_id": "1AsrindoFiHRUe8XdDsFpF7pJQTorFXUh",
      "authorship_tag": "ABX9TyML38KZkANcS4+hpo4X9C0H",
      "include_colab_link": true
    },
    "kernelspec": {
      "name": "python3",
      "display_name": "Python 3"
    },
    "accelerator": "GPU"
  },
  "cells": [
    {
      "cell_type": "markdown",
      "metadata": {
        "id": "view-in-github",
        "colab_type": "text"
      },
      "source": [
        "<a href=\"https://colab.research.google.com/github/Junghwan-brian/Dual_Stage_Attention_RNN/blob/master/colab_DARNN%EC%8B%A4%EC%8A%B5.ipynb\" target=\"_parent\"><img src=\"https://colab.research.google.com/assets/colab-badge.svg\" alt=\"Open In Colab\"/></a>"
      ]
    },
    {
      "cell_type": "code",
      "metadata": {
        "colab": {
          "base_uri": "https://localhost:8080/"
        },
        "id": "SUopFKKKA_qY",
        "outputId": "b2b5e80d-9e7b-43c5-cbf0-866e0577bb77"
      },
      "source": [
        "!nvidia-smi"
      ],
      "execution_count": null,
      "outputs": [
        {
          "output_type": "stream",
          "text": [
            "Fri Nov 20 07:05:36 2020       \n",
            "+-----------------------------------------------------------------------------+\n",
            "| NVIDIA-SMI 455.38       Driver Version: 418.67       CUDA Version: 10.1     |\n",
            "|-------------------------------+----------------------+----------------------+\n",
            "| GPU  Name        Persistence-M| Bus-Id        Disp.A | Volatile Uncorr. ECC |\n",
            "| Fan  Temp  Perf  Pwr:Usage/Cap|         Memory-Usage | GPU-Util  Compute M. |\n",
            "|                               |                      |               MIG M. |\n",
            "|===============================+======================+======================|\n",
            "|   0  Tesla T4            Off  | 00000000:00:04.0 Off |                    0 |\n",
            "| N/A   56C    P8    10W /  70W |      0MiB / 15079MiB |      0%      Default |\n",
            "|                               |                      |                 ERR! |\n",
            "+-------------------------------+----------------------+----------------------+\n",
            "                                                                               \n",
            "+-----------------------------------------------------------------------------+\n",
            "| Processes:                                                                  |\n",
            "|  GPU   GI   CI        PID   Type   Process name                  GPU Memory |\n",
            "|        ID   ID                                                   Usage      |\n",
            "|=============================================================================|\n",
            "|  No running processes found                                                 |\n",
            "+-----------------------------------------------------------------------------+\n"
          ],
          "name": "stdout"
        }
      ]
    },
    {
      "cell_type": "code",
      "metadata": {
        "id": "2iTdIfKYBJq3"
      },
      "source": [
        "import numpy as np\n",
        "import tensorflow as tf\n",
        "import matplotlib.pyplot as plt\n",
        "\n",
        "import matplotlib.font_manager as fm\n",
        "from matplotlib import rc\n",
        "from tensorflow.keras.layers import *\n",
        "from tensorflow.keras.models import Model\n",
        "\n",
        "\n",
        "%matplotlib inline\n"
      ],
      "execution_count": null,
      "outputs": []
    },
    {
      "cell_type": "code",
      "metadata": {
        "colab": {
          "base_uri": "https://localhost:8080/",
          "height": 185
        },
        "id": "_o9lMyjcCBuT",
        "outputId": "0d9da874-2f49-4a12-ee46-b42a90dcf518"
      },
      "source": [
        "tf.__version__\n",
        "a = Squeeze(np.ones((4,1,1)))"
      ],
      "execution_count": null,
      "outputs": [
        {
          "output_type": "error",
          "ename": "NameError",
          "evalue": "ignored",
          "traceback": [
            "\u001b[0;31m---------------------------------------------------------------------------\u001b[0m",
            "\u001b[0;31mNameError\u001b[0m                                 Traceback (most recent call last)",
            "\u001b[0;32m<ipython-input-3-638673f1aa4c>\u001b[0m in \u001b[0;36m<module>\u001b[0;34m()\u001b[0m\n\u001b[1;32m      1\u001b[0m \u001b[0mtf\u001b[0m\u001b[0;34m.\u001b[0m\u001b[0m__version__\u001b[0m\u001b[0;34m\u001b[0m\u001b[0;34m\u001b[0m\u001b[0m\n\u001b[0;32m----> 2\u001b[0;31m \u001b[0ma\u001b[0m \u001b[0;34m=\u001b[0m \u001b[0mSqueeze\u001b[0m\u001b[0;34m(\u001b[0m\u001b[0mnp\u001b[0m\u001b[0;34m.\u001b[0m\u001b[0mones\u001b[0m\u001b[0;34m(\u001b[0m\u001b[0;34m(\u001b[0m\u001b[0;36m4\u001b[0m\u001b[0;34m,\u001b[0m\u001b[0;36m1\u001b[0m\u001b[0;34m,\u001b[0m\u001b[0;36m1\u001b[0m\u001b[0;34m)\u001b[0m\u001b[0;34m)\u001b[0m\u001b[0;34m)\u001b[0m\u001b[0;34m\u001b[0m\u001b[0;34m\u001b[0m\u001b[0m\n\u001b[0m",
            "\u001b[0;31mNameError\u001b[0m: name 'Squeeze' is not defined"
          ]
        }
      ]
    },
    {
      "cell_type": "code",
      "metadata": {
        "id": "G7vUpOpyCEad"
      },
      "source": [
        "T = 5\n",
        "m = 32\n",
        "p = 32\n",
        "train_num = 78186 - 10000 # 10000개 test\n",
        "batch_size = 512\n",
        "enc_data = np.load(\"drive/MyDrive/논문구현/data/encoder_data.npy\")\n",
        "dec_data = np.load(\"drive/MyDrive/논문구현/data/decoder_data.npy\")\n",
        "target = np.load(\"drive/MyDrive/논문구현/data/target.npy\")\n"
      ],
      "execution_count": null,
      "outputs": []
    },
    {
      "cell_type": "code",
      "metadata": {
        "colab": {
          "base_uri": "https://localhost:8080/"
        },
        "id": "F9cYQtgoCmgK",
        "outputId": "020ca1c5-2158-409b-e8c9-41cf5acd5e47"
      },
      "source": [
        "enc_data.shape, dec_data.shape, target.shape"
      ],
      "execution_count": null,
      "outputs": [
        {
          "output_type": "execute_result",
          "data": {
            "text/plain": [
              "((78186, 5, 39), (78186, 4, 1), (78186,))"
            ]
          },
          "metadata": {
            "tags": []
          },
          "execution_count": 5
        }
      ]
    },
    {
      "cell_type": "code",
      "metadata": {
        "id": "4ew2sWR_Cz12"
      },
      "source": [
        "class Encoderlstm(Layer):\n",
        "    def __init__(self,m):\n",
        "        '''\n",
        "        m : lstm features num\n",
        "        '''\n",
        "        super(Encoderlstm,self).__init__(name='encoder_lstm')\n",
        "        self.lstm = LSTM(m, return_state=True)\n",
        "        self.initial_state = None\n",
        "\n",
        "    def call(self,x, training=False):\n",
        "        '''\n",
        "        x : t번째 input data (shape = batch,1,n)\n",
        "        '''\n",
        "        h_s, _, c_s = self.lstm(x,initial_state = self.initial_state)\n",
        "        self.initial_state = [h_s,c_s]\n",
        "        return h_s,c_s\n",
        "    \n",
        "    def reset_state(self, h0, c0):\n",
        "        self.initial_state = [h0,c0]\n",
        "\n",
        "class InputAttention(Layer):\n",
        "    def __init__(self,T):\n",
        "        super(InputAttention,self).__init__(name = \"input_attention\")\n",
        "        self.w1 = Dense(T)\n",
        "        self.w2 = Dense(T)\n",
        "        self.v = Dense(1)\n",
        "\n",
        "    def call(self, h_s, c_s, x):\n",
        "        \"\"\"\n",
        "        h_s : hidden_state shape = batch, m\n",
        "        c_s : cell_state shape = batch,m\n",
        "        x : time series encoder inputs shape = batch,T,n\n",
        "        \"\"\"\n",
        "        query = tf.concat([h_s,c_s],axis=-1) # batch,m*2\n",
        "        query = RepeatVector(x.shape[2])(query) # batch,n,m*2\n",
        "        x_perm = Permute((2,1))(x) # batch,n,T\n",
        "        score = tf.nn.tanh(self.w1(x_perm) + self.w2(query)) # batch,n,T\n",
        "        score = self.v(score) # batch,n,1\n",
        "        score = Permute((2,1))(score) # batch,1,n\n",
        "        attention_weigths = tf.nn.softmax(score) # t번째 time step일 때 각 feature별 중요도\n",
        "        return attention_weigths\n",
        "\n",
        "\n",
        "class Encoder(Layer):\n",
        "    def __init__(self,T,m):\n",
        "        super(Encoder,self).__init__(name = 'encoder')\n",
        "        self.T = T\n",
        "        self.input_att = InputAttention(T)\n",
        "        self.lstm = Encoderlstm(m)\n",
        "        self.alpha_t = None\n",
        "    \n",
        "    def call(self,data,h0,c0,n=39,training=False):\n",
        "        '''\n",
        "        data : encoder data (shape = batch,T,n)\n",
        "        n : data features num\n",
        "        '''\n",
        "        self.lstm.reset_state(h0=h0,c0=c0)\n",
        "        alpha_seq = tf.TensorArray(tf.float32,self.T)\n",
        "        for t in range(self.T):\n",
        "            x = Lambda(lambda x:data[:,t,:])(data) # batch,n\n",
        "            x = x[:,tf.newaxis,:] # batch,1,n\n",
        "            h_s,c_s = self.lstm(x)\n",
        "            self.alpha_t = self.input_att(h_s,c_s,data) # batch,1,n\n",
        "            alpha_seq = alpha_seq.write(t, self.alpha_t)\n",
        "        alpha_seq = tf.reshape(alpha_seq.stack(), (-1,self.T,n)) # batch,T,n\n",
        "        output = tf.multiply(data,alpha_seq) # batch,T,n\n",
        "        return output\n",
        "\n",
        "class Decoderlstm(Layer):\n",
        "    def __init__(self,p):\n",
        "        '''\n",
        "        p : decoder lstm feature dim\n",
        "        '''\n",
        "        super(Decoderlstm,self).__init__(name = 'decoder_lstm')\n",
        "        self.lstm = LSTM(p, return_state=True)\n",
        "        self.initial_state = None\n",
        "    \n",
        "    def call(self,x,training=False):\n",
        "        '''\n",
        "        x. : t번째 input data (shape = batch,1,1)\n",
        "        '''\n",
        "        h_s,_,c_s = self.lstm(x,initial_state = self.initial_state)\n",
        "        self.initial_state = [h_s,c_s]\n",
        "        return h_s,c_s\n",
        "\n",
        "    def reset_state(self,h0,c0):\n",
        "        self.initial_state = [h0,c0]\n",
        "\n",
        "\n",
        "class TemporalAttention(Layer):\n",
        "    def __init__(self, m):\n",
        "        super(TemporalAttention, self).__init__(name = 'temporal_attention')\n",
        "        self.w1 = Dense(m)\n",
        "        self.w2 = Dense(m)\n",
        "        self.v = Dense(1)\n",
        "\n",
        "    def call(self,h_s,c_s,enc_h):\n",
        "        '''\n",
        "        h_s : decoder hidden state : shape = batch,p\n",
        "        c_s : decodercell state : shape = batch,p\n",
        "        enc_h : shape = batch,T,m\n",
        "        '''\n",
        "        query = tf.concat([h_s,c_s],axis=-1) # batch, 2*p\n",
        "        query = RepeatVector(enc_h.shape[1])(query) # batch, T, 2*p\n",
        "        score = tf.nn.tanh(self.w1(enc_h) + self.w2(query)) # batch, T, m\n",
        "        score = self.v(score)\n",
        "        attention_weights = tf.nn.softmax(score, axis = 1) # encoder hidden state h(i)의 중요성을 나타낸다. (0<=i<=T)\n",
        "        return attention_weights\n",
        "\n",
        "\n",
        "class Decoder(Layer):\n",
        "    def __init__(self,T,p,m):\n",
        "        super(Decoder,self).__init__(name = 'decoder')\n",
        "        self.T = T\n",
        "        self.temp_att = TemporalAttention(m)\n",
        "        self.dense = Dense(1)\n",
        "        self.lstm = Decoderlstm(p)\n",
        "        self.enc_lstm_dim = m\n",
        "        self.dec_lstm_dim = p\n",
        "        self.context_v = None\n",
        "        self.dec_h_s = None\n",
        "        self.beta_t = None\n",
        "    \n",
        "    def call(self,data,enc_h,h0 = None, c0 = None, training=False):\n",
        "        '''\n",
        "        data : decoder data (shape = batch,T-1,1)\n",
        "        enc_h : encoder hidden state (shape = batch,T,m)\n",
        "        '''\n",
        "        self.lstm.reset_state(h0=h0,c0=c0)\n",
        "        self.context_v = tf.zeros((tf.shape(enc_h)[0],1,self.enc_lstm_dim)) # batch,1,m+!\n",
        "        for t in range(self.T-1):\n",
        "            x = Lambda(lambda x: data[:,t,:])(data) # batch,1\n",
        "            x = x[:,tf.newaxis,:] # batch,1,1\n",
        "            x = tf.concat([x,self.context_v],axis=-1) # batch, 1, m+1\n",
        "            x = self.dense(x) # batch, 1, 1\n",
        "            h_s,c_s = self.lstm(x) # batch,p\n",
        "            self.beta_t = self.temp_att(h_s,c_s,enc_h) # batch, T, 1\n",
        "            self.context_v = tf.matmul(self.beta_t,enc_h,transpose_a=True) # batch,1,m\n",
        "        \n",
        "        return tf.concat([h_s[:,tf.newaxis,:],self.context_v],axis=-1) # batch,1,m+p\n",
        "\n",
        "\n",
        "class DARNN(Model):\n",
        "    def __init__(self,T,m,p):\n",
        "        super(DARNN,self).__init__(name = 'DARNN')\n",
        "        '''\n",
        "        T : sequence 길이\n",
        "        m : encoder lstm features\n",
        "        p : decoder lstm features\n",
        "        '''\n",
        "        self.m = m\n",
        "        self.encoder = Encoder(T=T, m=m)\n",
        "        self.decoder = Decoder(T = T,p=p,m=m)\n",
        "        self.lstm = LSTM(m,return_sequences=True)\n",
        "        self.dense1 = Dense(p)\n",
        "        self.dense2 = Dense(1)\n",
        "    \n",
        "    def call(self,inputs, training=False, mask=None):\n",
        "        '''\n",
        "        inputs : [enc,dec]\n",
        "        enc_data : batch,T,n\n",
        "        dec_data : batch,T-1,1\n",
        "        '''\n",
        "        enc_data, dec_data = inputs\n",
        "        batch = tf.shape(enc_data)[0]\n",
        "        h0 = tf.zeros((batch,self.m))\n",
        "        c0 = tf.zeros((batch,self.m))\n",
        "        enc_output = self.encoder(enc_data,  n=39, h0=h0, c0=c0,training=training) # batch,T,n\n",
        "        enc_h = self.lstm(enc_output) # batch,T,m\n",
        "        dec_output = self.decoder(dec_data,enc_h,h0=h0,c0=c0, training=training) # batch, 1, m+p\n",
        "        output = self.dense2(self.dense1(dec_output)) # batch, 1, 1\n",
        "        output = tf.squeeze(output) # batch\n",
        "        return output\n",
        "\n",
        "model = DARNN(T=T,m=m,p=p)\n"
      ],
      "execution_count": null,
      "outputs": []
    },
    {
      "cell_type": "code",
      "metadata": {
        "colab": {
          "base_uri": "https://localhost:8080/"
        },
        "id": "RQ4YscXHUNoD",
        "outputId": "907ef30b-01ad-4fd3-88e0-bc0be045fc0e"
      },
      "source": [
        "train_ds = tf.data.Dataset.from_tensor_slices((enc_data[:train_num],dec_data[:train_num],target[:train_num])).batch(batch_size).shuffle(buffer_size=train_num).prefetch(tf.data.experimental.AUTOTUNE)\n",
        "\n",
        "@tf.function\n",
        "def train_step(model,inputs,labels,loss_fn,optimizer,train_loss):\n",
        "    with tf.GradientTape() as tape:\n",
        "        prediction = model(inputs,training=True)\n",
        "        loss = loss_fn(labels,prediction)\n",
        "    gradients = tape.gradient(loss,model.trainable_variables)\n",
        "    optimizer.apply_gradients(zip(gradients,model.trainable_variables))\n",
        "    train_loss(loss)\n",
        "\n",
        "loss_fn = tf.keras.losses.MSE\n",
        "\n",
        "optimizer = tf.keras.optimizers.Adam(0.001)\n",
        "train_loss = tf.keras.metrics.Mean(name = 'train_loss')\n",
        "\n",
        "for epoch in range(100):\n",
        "    for enc,dec,label in train_ds:\n",
        "        inputs = [enc,dec]\n",
        "        train_step(model,inputs,label,loss_fn,optimizer,train_loss)\n",
        "    \n",
        "    print(f\"epoch : {epoch+1}, train_loss : {train_loss.result()}\")\n",
        "    train_loss.reset_states()\n"
      ],
      "execution_count": null,
      "outputs": [
        {
          "output_type": "stream",
          "text": [
            "WARNING:tensorflow:Layer DARNN is casting an input tensor from dtype float64 to the layer's dtype of float32, which is new behavior in TensorFlow 2.  The layer has dtype float32 because its dtype defaults to floatx.\n",
            "\n",
            "If you intended to run this layer in float32, you can safely ignore this warning. If in doubt, this warning is likely only an issue if you are porting a TensorFlow 1.X model to TensorFlow 2.\n",
            "\n",
            "To change all layers to have dtype float64 by default, call `tf.keras.backend.set_floatx('float64')`. To change just this layer, pass dtype='float64' to the layer constructor. If you are the author of this layer, you can disable autocasting by passing autocast=False to the base Layer constructor.\n",
            "\n",
            "epoch : 1, train_loss : 199.31275939941406\n",
            "epoch : 2, train_loss : 4.373129844665527\n",
            "epoch : 3, train_loss : 1.9996930360794067\n",
            "epoch : 4, train_loss : 1.568398118019104\n",
            "epoch : 5, train_loss : 1.283084511756897\n",
            "epoch : 6, train_loss : 1.145291805267334\n",
            "epoch : 7, train_loss : 1.0715012550354004\n",
            "epoch : 8, train_loss : 1.0503612756729126\n",
            "epoch : 9, train_loss : 1.013048768043518\n",
            "epoch : 10, train_loss : 1.0057190656661987\n",
            "epoch : 11, train_loss : 1.0008147954940796\n",
            "epoch : 12, train_loss : 0.9818989634513855\n",
            "epoch : 13, train_loss : 0.9840533137321472\n",
            "epoch : 14, train_loss : 0.9656804800033569\n",
            "epoch : 15, train_loss : 0.9693900942802429\n",
            "epoch : 16, train_loss : 0.9580473303794861\n",
            "epoch : 17, train_loss : 0.970705509185791\n",
            "epoch : 18, train_loss : 0.9623985886573792\n",
            "epoch : 19, train_loss : 0.9540311098098755\n",
            "epoch : 20, train_loss : 0.9505991339683533\n",
            "epoch : 21, train_loss : 0.9541605114936829\n",
            "epoch : 22, train_loss : 0.9593339562416077\n",
            "epoch : 23, train_loss : 0.9602823853492737\n",
            "epoch : 24, train_loss : 0.9461420774459839\n",
            "epoch : 25, train_loss : 0.9433346390724182\n",
            "epoch : 26, train_loss : 0.9377173185348511\n",
            "epoch : 27, train_loss : 0.9536277055740356\n",
            "epoch : 28, train_loss : 0.9889710545539856\n",
            "epoch : 29, train_loss : 0.9422415494918823\n",
            "epoch : 30, train_loss : 0.935968816280365\n",
            "epoch : 31, train_loss : 0.9437392354011536\n",
            "epoch : 32, train_loss : 0.9448477625846863\n",
            "epoch : 33, train_loss : 0.9409773349761963\n",
            "epoch : 34, train_loss : 0.9483939409255981\n",
            "epoch : 35, train_loss : 0.9270375370979309\n",
            "epoch : 36, train_loss : 0.9321134686470032\n",
            "epoch : 37, train_loss : 0.9268558025360107\n",
            "epoch : 38, train_loss : 0.9292956590652466\n",
            "epoch : 39, train_loss : 0.9341133832931519\n",
            "epoch : 40, train_loss : 0.9178365468978882\n",
            "epoch : 41, train_loss : 0.9153288006782532\n",
            "epoch : 42, train_loss : 0.9201136231422424\n",
            "epoch : 43, train_loss : 0.9203709363937378\n",
            "epoch : 44, train_loss : 0.9173741936683655\n",
            "epoch : 45, train_loss : 0.96485435962677\n",
            "epoch : 46, train_loss : 0.9036467671394348\n",
            "epoch : 47, train_loss : 0.9266484379768372\n",
            "epoch : 48, train_loss : 0.9189465641975403\n",
            "epoch : 49, train_loss : 0.9078928232192993\n",
            "epoch : 50, train_loss : 0.891026496887207\n",
            "epoch : 51, train_loss : 0.9009811878204346\n",
            "epoch : 52, train_loss : 0.9138107299804688\n",
            "epoch : 53, train_loss : 0.9184770584106445\n",
            "epoch : 54, train_loss : 0.9144834876060486\n",
            "epoch : 55, train_loss : 0.8970949053764343\n",
            "epoch : 56, train_loss : 0.8927976489067078\n",
            "epoch : 57, train_loss : 0.8976693153381348\n",
            "epoch : 58, train_loss : 0.8978861570358276\n",
            "epoch : 59, train_loss : 0.8939902186393738\n",
            "epoch : 60, train_loss : 0.8917816877365112\n",
            "epoch : 61, train_loss : 0.8980186581611633\n",
            "epoch : 62, train_loss : 0.8818991780281067\n",
            "epoch : 63, train_loss : 0.8926307559013367\n",
            "epoch : 64, train_loss : 0.8990155458450317\n",
            "epoch : 65, train_loss : 0.8898775577545166\n",
            "epoch : 66, train_loss : 0.8781689405441284\n",
            "epoch : 67, train_loss : 0.9065693616867065\n",
            "epoch : 68, train_loss : 0.9069433212280273\n",
            "epoch : 69, train_loss : 0.8776678442955017\n",
            "epoch : 70, train_loss : 0.875321090221405\n",
            "epoch : 71, train_loss : 0.8863393068313599\n",
            "epoch : 72, train_loss : 0.8870698809623718\n",
            "epoch : 73, train_loss : 0.9006980061531067\n",
            "epoch : 74, train_loss : 0.8730990886688232\n",
            "epoch : 75, train_loss : 0.8824583292007446\n",
            "epoch : 76, train_loss : 0.8925855755805969\n",
            "epoch : 77, train_loss : 0.8744574189186096\n",
            "epoch : 78, train_loss : 0.8819112181663513\n",
            "epoch : 79, train_loss : 0.8679799437522888\n",
            "epoch : 80, train_loss : 0.8709856867790222\n",
            "epoch : 81, train_loss : 0.8765772581100464\n",
            "epoch : 82, train_loss : 0.8611790537834167\n",
            "epoch : 83, train_loss : 0.861754834651947\n",
            "epoch : 84, train_loss : 0.8712825179100037\n",
            "epoch : 85, train_loss : 0.8691463470458984\n",
            "epoch : 86, train_loss : 0.8525684475898743\n",
            "epoch : 87, train_loss : 0.8671948909759521\n",
            "epoch : 88, train_loss : 0.8812077641487122\n",
            "epoch : 89, train_loss : 0.8774595856666565\n",
            "epoch : 90, train_loss : 0.8709619045257568\n",
            "epoch : 91, train_loss : 0.865082323551178\n",
            "epoch : 92, train_loss : 0.8494868874549866\n",
            "epoch : 93, train_loss : 0.8460677862167358\n",
            "epoch : 94, train_loss : 0.8568798899650574\n",
            "epoch : 95, train_loss : 0.8479645848274231\n",
            "epoch : 96, train_loss : 0.8623446226119995\n",
            "epoch : 97, train_loss : 0.8414760231971741\n",
            "epoch : 98, train_loss : 0.8460536599159241\n",
            "epoch : 99, train_loss : 0.8628233075141907\n",
            "epoch : 100, train_loss : 0.8531680703163147\n"
          ],
          "name": "stdout"
        }
      ]
    },
    {
      "cell_type": "code",
      "metadata": {
        "colab": {
          "base_uri": "https://localhost:8080/"
        },
        "id": "9Aleis2YsCMX",
        "outputId": "6f781dff-a8d4-4f2a-d857-5879e919ac69"
      },
      "source": [
        "test_ds = tf.data.Dataset.from_tensor_slices((enc_data[train_num:], dec_data[train_num:], target[train_num:])).batch(2000)\n",
        "test_loss = tf.keras.metrics.Mean(name = 'test_loss')\n",
        "\n",
        "@tf.function\n",
        "def test_step(model,inputs,labels,loss_fn,test_loss):\n",
        "    prediction = model(inputs,training=True)\n",
        "    loss = loss_fn(labels,prediction)\n",
        "    test_loss(loss)\n",
        "    return prediction\n",
        "\n",
        "i=0\n",
        "for enc,dec,label in test_ds:\n",
        "    inputs = [enc,dec]\n",
        "    pred = test_step(model,inputs,label,loss_fn,test_loss)\n",
        "    if i==0:\n",
        "        preds = pred.numpy()\n",
        "        labels = label.numpy()\n",
        "        i+=1\n",
        "    else:\n",
        "        preds = np.concatenate([preds, pred.numpy()],axis=0)\n",
        "        labels = np.concatenate([labels,label.numpy()],axis=0)\n",
        "\n",
        "print(test_loss.result())\n"
      ],
      "execution_count": null,
      "outputs": [
        {
          "output_type": "stream",
          "text": [
            "tf.Tensor(1.3683376, shape=(), dtype=float32)\n"
          ],
          "name": "stdout"
        }
      ]
    },
    {
      "cell_type": "code",
      "metadata": {
        "colab": {
          "base_uri": "https://localhost:8080/",
          "height": 279
        },
        "id": "ulP_VctFsUW-",
        "outputId": "12e4c247-a17f-4b15-a2b7-7531252cb31d"
      },
      "source": [
        "preds = np.array(preds)\n",
        "labels = np.array(labels)\n",
        "plt.scatter(preds,labels,color = 'orange')\n",
        "plt.xlabel(\"pred\")\n",
        "plt.ylabel(\"label\")\n",
        "plt.show()\n"
      ],
      "execution_count": null,
      "outputs": [
        {
          "output_type": "display_data",
          "data": {
            "image/png": "[encoded data removed]",
            "text/plain": [
              "<Figure size 432x288 with 1 Axes>"
            ]
          },
          "metadata": {
            "tags": [],
            "needs_background": "light"
          }
        }
      ]
    },
    {
      "cell_type": "code",
      "metadata": {
        "colab": {
          "base_uri": "https://localhost:8080/",
          "height": 292
        },
        "id": "1H43y8O-sUUo",
        "outputId": "90d8d97d-ecb3-4ac3-8b58-cac4587be8d0"
      },
      "source": [
        "enc,dec,label = next(iter(test_ds))\n",
        "inputs = [enc, dec]\n",
        "pred = model(inputs)\n",
        "\n",
        "beta = []\n",
        "\n",
        "for i in range(5):\n",
        "    beta.append(np.mean(model.decoder.beta_t[:,i,0].numpy()))  # batch, T, 1\n",
        "\n",
        "plt.bar(x = range(5), height=beta, color = 'orange')\n",
        "plt.title(\"Beta\")\n",
        "plt.xlabel(\"time\")\n",
        "plt.ylabel(\"prob\")\n",
        "plt.show()"
      ],
      "execution_count": null,
      "outputs": [
        {
          "output_type": "display_data",
          "data": {
            "image/png": "[encoded data removed]",
            "text/plain": [
              "<Figure size 432x288 with 1 Axes>"
            ]
          },
          "metadata": {
            "tags": [],
            "needs_background": "light"
          }
        }
      ]
    },
    {
      "cell_type": "code",
      "metadata": {
        "colab": {
          "base_uri": "https://localhost:8080/"
        },
        "id": "DwOX7ctYsFRo",
        "outputId": "4d6d2e24-11e1-4d37-d97c-42c6a2195a8a"
      },
      "source": [
        "!apt-get update -qq\n",
        "!apt-get install fonts-nanum* -qq\n",
        "path = '/usr/share/fonts/truetype/nanum/NanumGothicEco.ttf'  # 설치된 나눔글꼴중 원하는 녀석의 전체 경로를 가져오자\n",
        "font_name = fm.FontProperties(fname=path, size=10).get_name()\n",
        "print(font_name)\n",
        "rc('font', family=font_name)\n",
        "fm._rebuild()"
      ],
      "execution_count": null,
      "outputs": [
        {
          "output_type": "stream",
          "text": [
            "NanumGothic Eco\n"
          ],
          "name": "stdout"
        }
      ]
    },
    {
      "cell_type": "code",
      "metadata": {
        "id": "QDI5vTmCsFa2"
      },
      "source": [
        "variable_dict = {\n",
        "    \"기온\": [\"0\", \"7\", \"28\", \"31\", \"32\"],\n",
        "    \"현지기압\": [\"1\", \"6\", \"22\", \"27\", \"29\"],\n",
        "    \"풍속\": [\"2\", \"3\", \"18\", \"24\", \"26\"],\n",
        "    \"일일 누적강수량\": [\"4\", \"10\", \"21\", \"36\", \"39\"],\n",
        "    \"해면기압\": [\"5\", \"8\", \"9\", \"23\", \"33\"],\n",
        "    \"일일 누적일사량\": [\"11\", \"14\", \"16\", \"19\", \"34\"],\n",
        "    \"습도\": [\"12\", \"20\", \"30\", \"37\", \"38\"],\n",
        "    \"풍향\": [\"13\", \"15\", \"17\", \"25\", \"35\"],\n",
        "}"
      ],
      "execution_count": null,
      "outputs": []
    },
    {
      "cell_type": "code",
      "metadata": {
        "colab": {
          "base_uri": "https://localhost:8080/",
          "height": 799
        },
        "id": "D_BGI62wsFfY",
        "outputId": "3c645409-6e9e-4d3a-dac6-60d9de214ad0"
      },
      "source": [
        "variable_key = list(variable_dict.keys())\n",
        "alpha = []\n",
        "variables = []\n",
        "for i in range(39):\n",
        "    alpha.append(np.mean(model.encoder.alpha_t[:,0,i].numpy()))\n",
        "    for key in variabel_key:\n",
        "        if f\"{i}\" in variable_dict[key]:\n",
        "            variables.append(f\"{key}{i}\")\n",
        "\n",
        "plt.figure(figsize = (12,12))\n",
        "plt.bar(x=variables,height=alpha, color = 'orange')\n",
        "plt.title(\"alpha\")\n",
        "plt.xlabel(\"variables\")\n",
        "plt.xticks(rotation = 90)\n",
        "plt.ylabel(\"prob\")\n",
        "plt.show()"
      ],
      "execution_count": null,
      "outputs": [
        {
          "output_type": "display_data",
          "data": {
            "image/png": "[encoded data removed]",
            "text/plain": [
              "<Figure size 864x864 with 1 Axes>"
            ]
          },
          "metadata": {
            "tags": [],
            "needs_background": "light"
          }
        }
      ]
    }
  ]
}
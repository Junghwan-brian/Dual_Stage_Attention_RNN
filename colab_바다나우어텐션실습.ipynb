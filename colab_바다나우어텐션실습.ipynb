{
  "nbformat": 4,
  "nbformat_minor": 0,
  "metadata": {
    "colab": {
      "name": "바다나우어텐션실습.ipynb",
      "provenance": [],
      "collapsed_sections": [],
      "authorship_tag": "ABX9TyNKXf4Zy6DtlwCLJAUrewrm",
      "include_colab_link": true
    },
    "kernelspec": {
      "name": "python3",
      "display_name": "Python 3"
    },
    "accelerator": "GPU"
  },
  "cells": [
    {
      "cell_type": "markdown",
      "metadata": {
        "id": "view-in-github",
        "colab_type": "text"
      },
      "source": [
        "<a href=\"https://colab.research.google.com/github/Junghwan-brian/Dual_Stage_Attention_RNN/blob/master/colab_%EB%B0%94%EB%8B%A4%EB%82%98%EC%9A%B0%EC%96%B4%ED%85%90%EC%85%98%EC%8B%A4%EC%8A%B5.ipynb\" target=\"_parent\"><img src=\"https://colab.research.google.com/assets/colab-badge.svg\" alt=\"Open In Colab\"/></a>"
      ]
    },
    {
      "cell_type": "code",
      "metadata": {
        "id": "TwMJSiqdLnss",
        "colab": {
          "base_uri": "https://localhost:8080/"
        },
        "outputId": "31d49aa0-6ad0-4337-fb5a-5290bd4b8987"
      },
      "source": [
        "!nvidia-smi"
      ],
      "execution_count": null,
      "outputs": [
        {
          "output_type": "stream",
          "text": [
            "Thu Nov 12 02:00:54 2020       \n",
            "+-----------------------------------------------------------------------------+\n",
            "| NVIDIA-SMI 455.32.00    Driver Version: 418.67       CUDA Version: 10.1     |\n",
            "|-------------------------------+----------------------+----------------------+\n",
            "| GPU  Name        Persistence-M| Bus-Id        Disp.A | Volatile Uncorr. ECC |\n",
            "| Fan  Temp  Perf  Pwr:Usage/Cap|         Memory-Usage | GPU-Util  Compute M. |\n",
            "|                               |                      |               MIG M. |\n",
            "|===============================+======================+======================|\n",
            "|   0  Tesla T4            Off  | 00000000:00:04.0 Off |                    0 |\n",
            "| N/A   58C    P8    10W /  70W |      0MiB / 15079MiB |      0%      Default |\n",
            "|                               |                      |                 ERR! |\n",
            "+-------------------------------+----------------------+----------------------+\n",
            "                                                                               \n",
            "+-----------------------------------------------------------------------------+\n",
            "| Processes:                                                                  |\n",
            "|  GPU   GI   CI        PID   Type   Process name                  GPU Memory |\n",
            "|        ID   ID                                                   Usage      |\n",
            "|=============================================================================|\n",
            "|  No running processes found                                                 |\n",
            "+-----------------------------------------------------------------------------+\n"
          ],
          "name": "stdout"
        }
      ]
    },
    {
      "cell_type": "code",
      "metadata": {
        "id": "uS8uNm6SMr8m",
        "colab": {
          "base_uri": "https://localhost:8080/",
          "height": 35
        },
        "outputId": "db7ccf99-2980-43f9-ddb1-a49964823129"
      },
      "source": [
        "# imdb\n",
        "from tensorflow.keras.datasets import imdb # 영화 리뷰 감성 분석 데이터셋. 긍정:1, 부정:0\n",
        "from tensorflow.keras.layers import *\n",
        "import tensorflow as tf\n",
        "from tensorflow.keras.preprocessing.sequence import pad_sequences # nlp, 다른 문장 길이 -> shape을 맞추기 위해서 사용합니다. 10,20,30 -> 20\n",
        "import warnings\n",
        "import matplotlib.pyplot as plt\n",
        "%matplotlib inline\n",
        "\n",
        "warnings.filterwarnings(\"ignore\")\n",
        "tf.random.set_seed(0)\n",
        "tf.__version__"
      ],
      "execution_count": null,
      "outputs": [
        {
          "output_type": "execute_result",
          "data": {
            "application/vnd.google.colaboratory.intrinsic+json": {
              "type": "string"
            },
            "text/plain": [
              "'2.3.0'"
            ]
          },
          "metadata": {
            "tags": []
          },
          "execution_count": 1
        }
      ]
    },
    {
      "cell_type": "markdown",
      "metadata": {
        "id": "0QPLUHpdOgjH"
      },
      "source": [
        "## 바다나우 어텐션"
      ]
    },
    {
      "cell_type": "markdown",
      "metadata": {
        "id": "B_G0FQs-OiN1"
      },
      "source": [
        "### imdb 데이터 불러오기"
      ]
    },
    {
      "cell_type": "code",
      "metadata": {
        "id": "J9tdMilCOPAA",
        "colab": {
          "base_uri": "https://localhost:8080/"
        },
        "outputId": "f114809c-a744-4a34-eb19-e169ca7bc821"
      },
      "source": [
        "num_words = 1000\n",
        "(x_train,y_train),(x_test,y_test) = imdb.load_data(num_words=num_words)\n",
        "seq_lens = [len(data) for data in x_train]"
      ],
      "execution_count": null,
      "outputs": [
        {
          "output_type": "stream",
          "text": [
            "Downloading data from https://storage.googleapis.com/tensorflow/tf-keras-datasets/imdb.npz\n",
            "17465344/17464789 [==============================] - 0s 0us/step\n"
          ],
          "name": "stdout"
        }
      ]
    },
    {
      "cell_type": "code",
      "metadata": {
        "id": "eTiCnvd8O5s9",
        "colab": {
          "base_uri": "https://localhost:8080/",
          "height": 279
        },
        "outputId": "90e7c8ad-8523-486d-83a8-21623301e9d0"
      },
      "source": [
        "plt.style.use(\"seaborn-pastel\")\n",
        "plt.hist(seq_lens,bins = 50)\n",
        "plt.xlabel(\"Sequence len\")\n",
        "plt.ylabel(\"Count\")\n",
        "plt.show()"
      ],
      "execution_count": null,
      "outputs": [
        {
          "output_type": "display_data",
          "data": {
            "image/png": "[encoded data removed]",
            "text/plain": [
              "<Figure size 432x288 with 1 Axes>"
            ]
          },
          "metadata": {
            "tags": [],
            "needs_background": "light"
          }
        }
      ]
    },
    {
      "cell_type": "code",
      "metadata": {
        "id": "dzUy5oKcO-kd"
      },
      "source": [
        "max_len = 500\n",
        "x_train = pad_sequences(x_train,maxlen=max_len, padding='pre')\n",
        "x_test = pad_sequences(x_test,maxlen=max_len, padding='pre')"
      ],
      "execution_count": null,
      "outputs": []
    },
    {
      "cell_type": "code",
      "metadata": {
        "id": "UokKNM3sRihk",
        "colab": {
          "base_uri": "https://localhost:8080/"
        },
        "outputId": "20b075d3-75b3-4be5-883a-be4c111404e7"
      },
      "source": [
        "x_train.shape, x_test.shape"
      ],
      "execution_count": null,
      "outputs": [
        {
          "output_type": "execute_result",
          "data": {
            "text/plain": [
              "((25000, 500), (25000, 500))"
            ]
          },
          "metadata": {
            "tags": []
          },
          "execution_count": 17
        }
      ]
    },
    {
      "cell_type": "code",
      "metadata": {
        "id": "6s5omDCSRrVx",
        "colab": {
          "base_uri": "https://localhost:8080/"
        },
        "outputId": "5c0bfa5b-d392-44e2-96fb-9844f2ee5eae"
      },
      "source": [
        "x_train[0] # 데이터가 tokenize 되어 있다."
      ],
      "execution_count": null,
      "outputs": [
        {
          "output_type": "execute_result",
          "data": {
            "text/plain": [
              "array([  0,   0,   0,   0,   0,   0,   0,   0,   0,   0,   0,   0,   0,\n",
              "         0,   0,   0,   0,   0,   0,   0,   0,   0,   0,   0,   0,   0,\n",
              "         0,   0,   0,   0,   0,   0,   0,   0,   0,   0,   0,   0,   0,\n",
              "         0,   0,   0,   0,   0,   0,   0,   0,   0,   0,   0,   0,   0,\n",
              "         0,   0,   0,   0,   0,   0,   0,   0,   0,   0,   0,   0,   0,\n",
              "         0,   0,   0,   0,   0,   0,   0,   0,   0,   0,   0,   0,   0,\n",
              "         0,   0,   0,   0,   0,   0,   0,   0,   0,   0,   0,   0,   0,\n",
              "         0,   0,   0,   0,   0,   0,   0,   0,   0,   0,   0,   0,   0,\n",
              "         0,   0,   0,   0,   0,   0,   0,   0,   0,   0,   0,   0,   0,\n",
              "         0,   0,   0,   0,   0,   0,   0,   0,   0,   0,   0,   0,   0,\n",
              "         0,   0,   0,   0,   0,   0,   0,   0,   0,   0,   0,   0,   0,\n",
              "         0,   0,   0,   0,   0,   0,   0,   0,   0,   0,   0,   0,   0,\n",
              "         0,   0,   0,   0,   0,   0,   0,   0,   0,   0,   0,   0,   0,\n",
              "         0,   0,   0,   0,   0,   0,   0,   0,   0,   0,   0,   0,   0,\n",
              "         0,   0,   0,   0,   0,   0,   0,   0,   0,   0,   0,   0,   0,\n",
              "         0,   0,   0,   0,   0,   0,   0,   0,   0,   0,   0,   0,   0,\n",
              "         0,   0,   0,   0,   0,   0,   0,   0,   0,   0,   0,   0,   0,\n",
              "         0,   0,   0,   0,   0,   0,   0,   0,   0,   0,   0,   0,   0,\n",
              "         0,   0,   0,   0,   0,   0,   0,   0,   0,   0,   0,   0,   0,\n",
              "         0,   0,   0,   0,   0,   0,   0,   0,   0,   0,   0,   0,   0,\n",
              "         0,   0,   0,   0,   0,   0,   0,   0,   0,   0,   0,   0,   0,\n",
              "         0,   0,   0,   0,   0,   0,   0,   0,   0,   1,  14,  22,  16,\n",
              "        43, 530, 973,   2,   2,  65, 458,   2,  66,   2,   4, 173,  36,\n",
              "       256,   5,  25, 100,  43, 838, 112,  50, 670,   2,   9,  35, 480,\n",
              "       284,   5, 150,   4, 172, 112, 167,   2, 336, 385,  39,   4, 172,\n",
              "         2,   2,  17, 546,  38,  13, 447,   4, 192,  50,  16,   6, 147,\n",
              "         2,  19,  14,  22,   4,   2,   2, 469,   4,  22,  71,  87,  12,\n",
              "        16,  43, 530,  38,  76,  15,  13,   2,   4,  22,  17, 515,  17,\n",
              "        12,  16, 626,  18,   2,   5,  62, 386,  12,   8, 316,   8, 106,\n",
              "         5,   4,   2,   2,  16, 480,  66,   2,  33,   4, 130,  12,  16,\n",
              "        38, 619,   5,  25, 124,  51,  36, 135,  48,  25,   2,  33,   6,\n",
              "        22,  12, 215,  28,  77,  52,   5,  14, 407,  16,  82,   2,   8,\n",
              "         4, 107, 117,   2,  15, 256,   4,   2,   7,   2,   5, 723,  36,\n",
              "        71,  43, 530, 476,  26, 400, 317,  46,   7,   4,   2,   2,  13,\n",
              "       104,  88,   4, 381,  15, 297,  98,  32,   2,  56,  26, 141,   6,\n",
              "       194,   2,  18,   4, 226,  22,  21, 134, 476,  26, 480,   5, 144,\n",
              "        30,   2,  18,  51,  36,  28, 224,  92,  25, 104,   4, 226,  65,\n",
              "        16,  38,   2,  88,  12,  16, 283,   5,  16,   2, 113, 103,  32,\n",
              "        15,  16,   2,  19, 178,  32], dtype=int32)"
            ]
          },
          "metadata": {
            "tags": []
          },
          "execution_count": 18
        }
      ]
    },
    {
      "cell_type": "code",
      "metadata": {
        "id": "9CFaaRFQR5M2"
      },
      "source": [
        "train_ds = tf.data.Dataset.from_tensor_slices((x_train,y_train)).batch(128)\n",
        "test_ds = tf.data.Dataset.from_tensor_slices((x_test,y_test)).batch(128)"
      ],
      "execution_count": null,
      "outputs": []
    },
    {
      "cell_type": "code",
      "metadata": {
        "id": "AqAy5Cb4SV_L"
      },
      "source": [
        "a,b = next(iter(train_ds))"
      ],
      "execution_count": null,
      "outputs": []
    },
    {
      "cell_type": "code",
      "metadata": {
        "id": "1yDB_XidSZxB",
        "colab": {
          "base_uri": "https://localhost:8080/"
        },
        "outputId": "c7a08bf6-ff85-4927-f0ce-c08c69504dc4"
      },
      "source": [
        "a.shape, b.shape"
      ],
      "execution_count": null,
      "outputs": [
        {
          "output_type": "execute_result",
          "data": {
            "text/plain": [
              "(TensorShape([128, 500]), TensorShape([128]))"
            ]
          },
          "metadata": {
            "tags": []
          },
          "execution_count": 25
        }
      ]
    },
    {
      "cell_type": "markdown",
      "metadata": {
        "id": "S5FJYje3SfFa"
      },
      "source": [
        "### 모델구현"
      ]
    },
    {
      "cell_type": "markdown",
      "metadata": {
        "id": "q3INe5x3ShIX"
      },
      "source": [
        "어텐션 레이어 정의"
      ]
    },
    {
      "cell_type": "code",
      "metadata": {
        "id": "cK-PExqgSdrb"
      },
      "source": [
        "class bahdanau(Layer):\n",
        "    def __init__(self,units):\n",
        "        super(bahdanau,self).__init__()\n",
        "        self.w1 = Dense(units)\n",
        "        self.w2 = Dense(units)\n",
        "        self.v = Dense(1)\n",
        "    def call(self, query, values):\n",
        "        '''\n",
        "        query : batch_size, lstm_features\n",
        "        values(==key) : batch_size, max_length, lstm_features\n",
        "        '''\n",
        "        query = tf.expand_dims(query,axis=1) # batch,1,lstm_features\n",
        "        score = tf.nn.tanh(self.w1(values) + self.w2(query)) # batch(128), max_length(500), units(128)\n",
        "        score = self.v(score) # batch,max_length,1\n",
        "\n",
        "        attention_weights = tf.nn.softmax(score) # batch, max_len, 1 -> sequence에서 각 단어가 가지는 중요도!\n",
        "\n",
        "        attention_value = attention_weights * values # batch, max_len, lstm_features\n",
        "        # axis=1 -> 각 단어별 특징 값을 더한다는 뜻! -> 문장 하나당 1개의 감정분석을 낼 수 있다.\n",
        "        attention_value = tf.reduce_sum(attention_value, axis=1)\n",
        "        return attention_value, attention_weights\n",
        "\n",
        "class Model(tf.keras.models.Model):\n",
        "    def __init__(self):\n",
        "        super(Model,self).__init__()\n",
        "        self.embedding = Embedding(num_words, 128, input_length=max_len)\n",
        "        self.lstm = LSTM(128, return_sequences=True, return_state = True) # 전체 타임 스텝의 hidden state를 받고, cell state도 받겠다.\n",
        "        self.attention = bahdanau(128)\n",
        "        self.dropout = Dropout(0.3)\n",
        "        self.dense1 = Dense(30, activation = 'relu')\n",
        "        self.dense2 = Dense(1, activation='sigmoid')\n",
        "\n",
        "    def call(self, x, training=False):\n",
        "        embedding = self.embedding(x) # batch, 500, 128\n",
        "        lstm_h, h, c = self.lstm(embedding) # (batch, 500, 128), (batch, 128)\n",
        "        h = tf.concat([h,c], axis=-1) # batch, 256\n",
        "        attention_v, attention_w = self.attention(h,lstm_h)\n",
        "        hidden = self.dropout(attention_v, training = training)\n",
        "        hidden = self.dense1(hidden)\n",
        "        output = self.dense2(hidden)\n",
        "        return output"
      ],
      "execution_count": null,
      "outputs": []
    },
    {
      "cell_type": "code",
      "metadata": {
        "id": "El0ZrBYkXXC9",
        "colab": {
          "base_uri": "https://localhost:8080/"
        },
        "outputId": "b8890e70-8cf3-4a5d-a444-c597738efe6b"
      },
      "source": [
        "model = Model()\n",
        "model.compile(optimizer = 'adam', loss = 'binary_crossentropy', metrics = ['accuracy'])\n",
        "hist = model.fit(train_ds, epochs = 3, validation_data = test_ds, verbose = 1)"
      ],
      "execution_count": null,
      "outputs": [
        {
          "output_type": "stream",
          "text": [
            "Epoch 1/3\n",
            "196/196 [==============================] - 16s 80ms/step - loss: 0.7475 - accuracy: 0.5300 - val_loss: 0.7829 - val_accuracy: 0.5771\n",
            "Epoch 2/3\n",
            "196/196 [==============================] - 15s 78ms/step - loss: 0.4577 - accuracy: 0.7815 - val_loss: 0.3882 - val_accuracy: 0.8253\n",
            "Epoch 3/3\n",
            "196/196 [==============================] - 15s 79ms/step - loss: 0.3378 - accuracy: 0.8557 - val_loss: 0.3633 - val_accuracy: 0.8378\n"
          ],
          "name": "stdout"
        }
      ]
    }
  ]
}